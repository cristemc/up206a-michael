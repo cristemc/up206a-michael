{
 "cells": [
  {
   "cell_type": "markdown",
   "id": "d1d3a906-0e34-4285-b40d-e3f9c9d7afe7",
   "metadata": {},
   "source": [
    "# Individual Assignment Week 2 (10/11/21)"
   ]
  },
  {
   "cell_type": "markdown",
   "id": "1ae907ac-f8a0-4224-bf90-be9f4145b21e",
   "metadata": {},
   "source": [
    "### Importing and organizing data"
   ]
  },
  {
   "cell_type": "markdown",
   "id": "c7619eba-24ed-4ace-a56b-aa0b09415d7c",
   "metadata": {},
   "source": [
    "To begin to understand the datasets for the final project I hope to streamline the data to the most relevant information related to broadband adoption and the barriers that households and communities face across Los Angeles County."
   ]
  },
  {
   "cell_type": "markdown",
   "id": "dc45d788-7c07-483d-8afd-0fcb73fe53ed",
   "metadata": {},
   "source": [
    "### Data Exploration"
   ]
  },
  {
   "cell_type": "code",
   "execution_count": 1,
   "id": "7d08b0eb-8c07-4552-aecd-ff502512a9f3",
   "metadata": {},
   "outputs": [],
   "source": [
    "import geopandas as gpd"
   ]
  },
  {
   "cell_type": "markdown",
   "id": "501ade8e-4eae-47f7-bf9d-5c90722e2312",
   "metadata": {},
   "source": [
    "First, import geopandas to plot spatial data."
   ]
  },
  {
   "cell_type": "code",
   "execution_count": null,
   "id": "76cf6342-ec0d-46bf-909b-d5e17b97e87d",
   "metadata": {},
   "outputs": [],
   "source": [
    "zip = \"Public_Internet_Access.zip\""
   ]
  }
 ],
 "metadata": {
  "kernelspec": {
   "display_name": "Python 3 (ipykernel)",
   "language": "python",
   "name": "python3"
  },
  "language_info": {
   "codemirror_mode": {
    "name": "ipython",
    "version": 3
   },
   "file_extension": ".py",
   "mimetype": "text/x-python",
   "name": "python",
   "nbconvert_exporter": "python",
   "pygments_lexer": "ipython3",
   "version": "3.9.6"
  }
 },
 "nbformat": 4,
 "nbformat_minor": 5
}
