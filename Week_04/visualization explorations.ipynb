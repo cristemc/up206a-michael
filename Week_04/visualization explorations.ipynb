{
 "cells": [
  {
   "cell_type": "markdown",
   "id": "e3ba1dae-08be-4cd2-a0bb-35437cfc9b1f",
   "metadata": {},
   "source": [
    "# Visualization Explorations (Week 04)\n",
    "## Michael Criste\n",
    "For this week's assignment I am aiming to develop my visualization skills to enrich graphs and charts that I am able to make with the data available to me through the census and other sources.\n",
    "\n",
    "As always, I will begin by loading the libraries I am most likely to use and my data sets:"
   ]
  },
  {
   "cell_type": "code",
   "execution_count": 1,
   "id": "0cd6c972-eeef-491b-a972-0c0d4a2d1b9c",
   "metadata": {},
   "outputs": [],
   "source": [
    "import pandas as pd\n",
    "import geopandas as gpd\n",
    "import contextily as ctx\n",
    "import matplotlib.pyplot as plt"
   ]
  },
  {
   "cell_type": "code",
   "execution_count": null,
   "id": "312c5742-3565-433e-beb2-02e7f8e2c9de",
   "metadata": {},
   "outputs": [],
   "source": []
  }
 ],
 "metadata": {
  "kernelspec": {
   "display_name": "Python 3 (ipykernel)",
   "language": "python",
   "name": "python3"
  },
  "language_info": {
   "codemirror_mode": {
    "name": "ipython",
    "version": 3
   },
   "file_extension": ".py",
   "mimetype": "text/x-python",
   "name": "python",
   "nbconvert_exporter": "python",
   "pygments_lexer": "ipython3",
   "version": "3.9.6"
  }
 },
 "nbformat": 4,
 "nbformat_minor": 5
}
