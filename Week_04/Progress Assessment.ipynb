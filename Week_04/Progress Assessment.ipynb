{
 "cells": [
  {
   "cell_type": "markdown",
   "id": "44205a34-0b43-487f-8b89-1e26b6060653",
   "metadata": {},
   "source": [
    "# Project Assessment\n",
    "## Accessibility and Accomodation of Public Internet \n",
    "Original proposal can be found [here](https://github.com/cristemc/project_proposal)\n",
    "\n",
    "### Roles\n",
    "#Lead Researcher# Michael Criste\n",
    "#Lead Developer# Michael Criste\n",
    "#Intern# Michael Criste \n",
    "\n",
    "### Status Update\n",
    "While completing the intial data explorations in the past weeks, I thought it would be best to narrow down the spaital scope for this project. Originally studying broadband accessacross Los Angeles County, I am more interested in understanding inequality and digital exclusion at an intra-city level. While much of the discussion and policy interventions relating to the digital divide are focused on the urban-rural divide, I have found that there are barriers to broadband adoption within the city dispite having access through many providers. These patterns of digital inequality often follow ongoing patterns of social and economic exclusion therefore reproducing inequality into our digital sphere.\n",
    "\n",
    "After our most recent lab, I believe I can further link the lack the of access to our built environment and policies beyond census tracts. While have compiled many datasets that include public access points across the city and county, I have found a [list of LA Public Libraries](https://www.lapl.org/tech2go/mobile-hotspots) that participate in the Tech2Go program which loans mobile hotspots to residents. I believe programs like this will be critical to connecting families to social and educational resource, as well as economic opportunity, it is troublesome that the program only has 16 participating libraries. With only 22% of the system's libraries offering the service, it becomes more important to understand how accessible these facilities are to those most in need. \n",
    "\n",
    "By plotting the participating libraries in relation to census tracts that have 25% or more of residents lacking internet access at home, I could then use OMSnx to measure the accessibility of facilities by through multiple modes of transportation. \n",
    "\n",
    "### Data Update\n",
    "Intially, I pulled many sources of data from the [City and County of LA](https://github.com/cristemc/project_proposal/tree/main/Public_Internet_Access), [California Department of Education](https://github.com/cristemc/project_proposal/blob/main/CohortGradRates20172018.csv), [FCC](https://opendata.fcc.gov/resource/4kuc-phrr.json), and [US Census Bureau](https://github.com/cristemc/data/blob/main/R12915135_SL150.csv). After these first few weeks I believe I don't need all the sources, for example data from the CA Depatment of Education and the FCC, but will still haves to reference if the opportunity arises. \n",
    "\n",
    "Since completeing my first exploration with Census data, I would like to go back and refine the social and economic variables selected to more accurately portray the types of exclusion these communities are forced to navigate. My initial trials explored [broadband access and income](https://github.com/cristemc/up206a-michael/blob/main/Week_03/census_exploration.ipynb), I believe age, household size, and race will also be important.\n",
    "\n",
    "### Concerns\n",
    "For this weeks assignment I would like to focus on developing and refining charts and graphs which can be used to compare access across these variables better than a map. While I have spent some time looking at the [matplotlib documentation](https://matplotlib.org/3.3.3/api/_as_gen/matplotlib.pyplot.subplots.html) I am still not yet fully versed in understanding what I am looking at. I had a similar experience when trying to [change the basemap in Contextily](https://xyzservices.readthedocs.io/en/stable/) while this is not yet critical, I have a design background and desire the same level of control that I am used to with product like the adobe cloud.\n",
    "\n"
   ]
  }
 ],
 "metadata": {
  "kernelspec": {
   "display_name": "Python 3 (ipykernel)",
   "language": "python",
   "name": "python3"
  },
  "language_info": {
   "codemirror_mode": {
    "name": "ipython",
    "version": 3
   },
   "file_extension": ".py",
   "mimetype": "text/x-python",
   "name": "python",
   "nbconvert_exporter": "python",
   "pygments_lexer": "ipython3",
   "version": "3.9.6"
  }
 },
 "nbformat": 4,
 "nbformat_minor": 5
}
