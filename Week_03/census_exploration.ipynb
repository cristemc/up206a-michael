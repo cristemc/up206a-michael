{
 "cells": [
  {
   "cell_type": "markdown",
   "id": "4e97e971-e32d-4cde-813e-5c57f7223cb1",
   "metadata": {},
   "source": [
    "# Census Data Exploration "
   ]
  },
  {
   "cell_type": "markdown",
   "id": "03e7e72a-3d65-419f-b73e-7a100760891a",
   "metadata": {},
   "source": [
    "For this week's assignment, I am going to perform analysis on broadband adoption by income level and age. The source of the data is the 2019 American Community Survey (5-year Estimate)."
   ]
  },
  {
   "cell_type": "markdown",
   "id": "d1d35905-1c62-4d6e-94a6-cce04bdc0518",
   "metadata": {},
   "source": [
    "To start, I will import the python libaries I am likely to use:"
   ]
  },
  {
   "cell_type": "code",
   "execution_count": null,
   "id": "51e10956-faa2-493c-803e-38683b601835",
   "metadata": {},
   "outputs": [],
   "source": [
    "import pandas as pd\n",
    "import geopandas as gpd\n",
    "import contextily as ctx\n",
    "import matplotlib.pyplot as plt"
   ]
  }
 ],
 "metadata": {
  "kernelspec": {
   "display_name": "Python 3 (ipykernel)",
   "language": "python",
   "name": "python3"
  },
  "language_info": {
   "codemirror_mode": {
    "name": "ipython",
    "version": 3
   },
   "file_extension": ".py",
   "mimetype": "text/x-python",
   "name": "python",
   "nbconvert_exporter": "python",
   "pygments_lexer": "ipython3",
   "version": "3.9.6"
  }
 },
 "nbformat": 4,
 "nbformat_minor": 5
}
